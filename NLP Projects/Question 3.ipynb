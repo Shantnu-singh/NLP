{
  "cells": [
    {
      "cell_type": "markdown",
      "metadata": {},
      "source": [
        "<strong><h3>Design of PoS tagger using HMM.</h3></strong>"
      ]
    },
    {
      "cell_type": "code",
      "execution_count": null,
      "metadata": {
        "colab": {
          "base_uri": "https://localhost:8080/"
        },
        "id": "8waH4sMDWgrD",
        "outputId": "7207175d-6e0b-46bc-86ff-c1266482cafe"
      },
      "outputs": [
        {
          "name": "stdout",
          "output_type": "stream",
          "text": [
            "[('I', 'PRP'), ('love', 'VBP'), ('nautue', None)]\n"
          ]
        }
      ],
      "source": [
        "from collections import defaultdict\n",
        "import nltk\n",
        "import numpy as np\n",
        "\n",
        "\n",
        "class PosTagging:\n",
        "    def __init__(self, train_sent):\n",
        "        self.transition = defaultdict(int)\n",
        "        self.emission = defaultdict(int)\n",
        "        self.tag_set = set()\n",
        "        self.word_set = set()\n",
        "\n",
        "        self.train(train_sent)\n",
        "\n",
        "    def train(self, train_sent):\n",
        "        for sent in train_sent:\n",
        "            prev_tag = None\n",
        "            for word, tag in sent:\n",
        "                self.transition[(prev_tag, tag)] += 1\n",
        "                self.emission[(tag, word)] += 1\n",
        "                self.tag_set.add(tag)\n",
        "                self.word_set.add(word)\n",
        "                prev_tag = tag\n",
        "\n",
        "    def tag(self, sentence):\n",
        "        tagged_sentence = []\n",
        "        for word in sentence:\n",
        "            max_prob = 0\n",
        "            best_tag = None\n",
        "            for tag in self.tag_set:\n",
        "                count_total_tag = sum(v for k, v in self.transition.items() if k[0] == tagged_sentence[-1][1]) if tagged_sentence else 1.0\n",
        "                transition_prob = self.transition[(tagged_sentence[-1][1], tag)] / count_total_tag if tagged_sentence else 1.0\n",
        "                emission_prob = self.emission[(tag, word)] / count_total_tag\n",
        "                prob = transition_prob * emission_prob\n",
        "                if prob > max_prob:\n",
        "                    max_prob = prob\n",
        "                    best_tag = tag\n",
        "            tagged_sentence.append((word, best_tag))\n",
        "        return tagged_sentence\n",
        "\n",
        "#Expamle\n",
        "train_sent = [[('I', 'PRP'), ('love', 'VBP'), ('natural', 'JJ'), ('language', 'NN'), ('processing', 'NN')]]\n",
        "test_sents = \"I love nautue\".split()\n",
        "\n",
        "hmm_tagger = PosTagging(train_sent)\n",
        "tags = hmm_tagger.tag(test_sents)\n",
        "print(tags)\n"
      ]
    }
  ],
  "metadata": {
    "colab": {
      "provenance": []
    },
    "kernelspec": {
      "display_name": "Python 3",
      "name": "python3"
    },
    "language_info": {
      "name": "python"
    }
  },
  "nbformat": 4,
  "nbformat_minor": 0
}
