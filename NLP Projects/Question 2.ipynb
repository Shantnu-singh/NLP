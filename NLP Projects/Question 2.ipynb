{
  "cells": [
    {
      "cell_type": "markdown",
      "metadata": {},
      "source": [
        "<strong><h3>Learning of various PoS taggers\n",
        "</h3></strong>\n"
      ]
    },
    {
      "cell_type": "markdown",
      "metadata": {
        "id": "C-WyaUijqPiA"
      },
      "source": [
        "Import file and load Dataset\n"
      ]
    },
    {
      "cell_type": "code",
      "execution_count": null,
      "metadata": {
        "colab": {
          "base_uri": "https://localhost:8080/"
        },
        "id": "HAjKiLvKqY1U",
        "outputId": "83de5d07-e39d-4074-876c-2a5909cf9dcf"
      },
      "outputs": [
        {
          "name": "stderr",
          "output_type": "stream",
          "text": [
            "[nltk_data] Downloading package brown to /root/nltk_data...\n",
            "[nltk_data]   Unzipping corpora/brown.zip.\n"
          ]
        },
        {
          "data": {
            "text/plain": [
              "True"
            ]
          },
          "execution_count": 4,
          "metadata": {},
          "output_type": "execute_result"
        }
      ],
      "source": [
        "import nltk\n",
        "from nltk.corpus import brown\n",
        "nltk.download('brown')"
      ]
    },
    {
      "cell_type": "markdown",
      "metadata": {
        "id": "hymmN43TqnPA"
      },
      "source": [
        "Data Preprocessing"
      ]
    },
    {
      "cell_type": "code",
      "execution_count": null,
      "metadata": {
        "colab": {
          "base_uri": "https://localhost:8080/"
        },
        "id": "4ED5TXC8qcp0",
        "outputId": "81db2b75-0f12-482c-fc7b-c805968bcc2f"
      },
      "outputs": [
        {
          "name": "stdout",
          "output_type": "stream",
          "text": [
            "the fulton county grand jury said friday an investigation of atlanta's recent primary election produced `` no evidence '' that any irregularities took place . the jury further said in term-end presentments that the city executive committee , which had over-all charge of the election , `` deserves the praise and thanks of the city of atlanta '' for the manner in which the election was conducted . the september-october term jury had been charged by fulton superior court judge durwood pye to investigate reports of possible `` irregularities '' in the hard-fought primary which was won by mayor-nominate ivan "
          ]
        }
      ],
      "source": [
        "corpus = nltk.corpus.brown.words()\n",
        "len(corpus)\n",
        "corpus[2]\n",
        "corpus = [w.lower() for w in corpus]\n",
        "for i in range(100):\n",
        "  print(corpus[i], end = \" \")"
      ]
    },
    {
      "cell_type": "code",
      "execution_count": null,
      "metadata": {
        "colab": {
          "base_uri": "https://localhost:8080/"
        },
        "id": "fwgxQw8vrd6I",
        "outputId": "e5a0f3a0-c224-4850-c504-c5b66e8a5ee6"
      },
      "outputs": [
        {
          "name": "stderr",
          "output_type": "stream",
          "text": [
            "[nltk_data] Downloading package averaged_perceptron_tagger to\n",
            "[nltk_data]     /root/nltk_data...\n",
            "[nltk_data]   Unzipping taggers/averaged_perceptron_tagger.zip.\n"
          ]
        },
        {
          "data": {
            "text/plain": [
              "True"
            ]
          },
          "execution_count": 6,
          "metadata": {},
          "output_type": "execute_result"
        }
      ],
      "source": [
        "nltk.download('averaged_perceptron_tagger')"
      ]
    },
    {
      "cell_type": "code",
      "execution_count": null,
      "metadata": {
        "colab": {
          "base_uri": "https://localhost:8080/"
        },
        "id": "-IcmZKiMqtAy",
        "outputId": "8c662a7a-c074-4c27-b868-ac50ad5611e7"
      },
      "outputs": [
        {
          "name": "stdout",
          "output_type": "stream",
          "text": [
            "the ('the', 'DT')\n",
            "fulton ('fulton', 'NN')\n",
            "county ('county', 'NN')\n",
            "grand ('grand', 'JJ')\n",
            "jury ('jury', 'NN')\n",
            "said ('said', 'VBD')\n",
            "friday ('friday', 'PDT')\n",
            "an ('an', 'DT')\n",
            "investigation ('investigation', 'NN')\n",
            "of ('of', 'IN')\n"
          ]
        }
      ],
      "source": [
        "pos_tag = nltk.pos_tag(corpus)\n",
        "\n",
        "for i in range(0,10):\n",
        "  print(corpus[i],pos_tag[i] )"
      ]
    },
    {
      "cell_type": "code",
      "execution_count": null,
      "metadata": {
        "id": "xD3C72atrXqP"
      },
      "outputs": [],
      "source": [
        "def top_n_item(item , n):\n",
        "  return sorted(item , key = lambda x : x[1] , reverse = True)[:n]\n"
      ]
    },
    {
      "cell_type": "code",
      "execution_count": null,
      "metadata": {
        "id": "p7J4NkjOw51T"
      },
      "outputs": [],
      "source": [
        "def count_by_tag(tag):\n",
        "  count = 0\n",
        "  for _,tag_word in pos_tag:\n",
        "    if tag_word == tag:\n",
        "      count += 1\n",
        "\n",
        "  return count\n"
      ]
    },
    {
      "cell_type": "markdown",
      "metadata": {
        "id": "vbuypOsYJZYS"
      },
      "source": [
        "**Top 10 POS tags and their counts**"
      ]
    },
    {
      "cell_type": "code",
      "execution_count": null,
      "metadata": {
        "colab": {
          "base_uri": "https://localhost:8080/"
        },
        "id": "y5_Ew71zwm5b",
        "outputId": "b72be51b-3e8a-447b-a6a1-58c4c0720707"
      },
      "outputs": [
        {
          "name": "stdout",
          "output_type": "stream",
          "text": [
            "Top 10 POS tags and their counts:\n",
            "NN: 208751\n",
            "IN: 136406\n",
            "DT: 116447\n",
            "JJ: 96450\n",
            "NNS: 61062\n",
            ",: 58334\n",
            ".: 55635\n",
            "RB: 48001\n",
            "VBD: 46091\n",
            "PRP: 39187\n"
          ]
        }
      ],
      "source": [
        "pos_tag_counts = [(tag, count_by_tag(tag)) for tag in set(tagged_word for _, tagged_word in pos_tag)]\n",
        "top_pos_tags = top_n_item(pos_tag_counts, 10)\n",
        "print(\"Top 10 POS tags and their counts:\")\n",
        "for tag, count in top_pos_tags:\n",
        "    print(f\"{tag}: {count}\")"
      ]
    },
    {
      "cell_type": "markdown",
      "metadata": {
        "id": "PcRJFiu8Jf9s"
      },
      "source": [
        "**Top 10 Words and their counts**"
      ]
    },
    {
      "cell_type": "code",
      "execution_count": null,
      "metadata": {
        "id": "rn78KTr2xgVJ"
      },
      "outputs": [],
      "source": [
        "word_counts = [(word, corpus.count(word)) for word in set(corpus)]\n",
        "top_words = top_n_item(word_counts, 10)\n",
        "print(\"Top 10 words and their counts:\")\n",
        "for word, count in top_words:\n",
        "    print(f\"{word}: {count}\")"
      ]
    },
    {
      "cell_type": "markdown",
      "metadata": {
        "id": "m-hn26FEJq5H"
      },
      "source": [
        "**Different POS tags are represented in this Brown category**"
      ]
    },
    {
      "cell_type": "code",
      "execution_count": null,
      "metadata": {
        "colab": {
          "base_uri": "https://localhost:8080/"
        },
        "id": "6w23I7PUyR8B",
        "outputId": "e1fd1b72-15ce-4c49-ac6e-51a45ca2f7ed"
      },
      "outputs": [
        {
          "name": "stdout",
          "output_type": "stream",
          "text": [
            "Number of different POS tags: 68308\n"
          ]
        }
      ],
      "source": [
        "unique_pos_tags = len(set(tagged_word for tagged_word in pos_tag))\n",
        "print(f\"Number of different POS tags: {unique_pos_tags}\")"
      ]
    },
    {
      "cell_type": "markdown",
      "metadata": {
        "id": "n1YlgiBFJzE3"
      },
      "source": [
        "**The most frequent adverb and verbs**"
      ]
    },
    {
      "cell_type": "code",
      "execution_count": null,
      "metadata": {
        "colab": {
          "base_uri": "https://localhost:8080/"
        },
        "id": "qGez7HVi0M20",
        "outputId": "e742f0d2-244b-430a-d9a5-05dc3f24c777"
      },
      "outputs": [
        {
          "name": "stdout",
          "output_type": "stream",
          "text": [
            "Most frequent adverb is RB\n",
            "Most frequent verb is VBD\n"
          ]
        }
      ],
      "source": [
        "most_frequent_adverb = top_n_item([(tag, count_by_tag(tag)) for tag in [\"RB\", \"RBR\", \"RBS\"]], 1)[0][0]\n",
        "most_frequent_verb = top_n_item([(tag, count_by_tag(tag)) for tag in [\"VB\", \"VBD\", \"VBG\", \"VBP\", \"VBZ\"]], 1)[0][0]\n",
        "print(f\"Most frequent adverb is {most_frequent_adverb}\")\n",
        "print(f\"Most frequent verb is {most_frequent_verb}\")\n"
      ]
    },
    {
      "cell_type": "markdown",
      "metadata": {
        "id": "o5VlfjHmJ68T"
      },
      "source": [
        "**Given the any word in the corpus, how many tokens are there for that word**"
      ]
    },
    {
      "cell_type": "code",
      "execution_count": null,
      "metadata": {
        "colab": {
          "base_uri": "https://localhost:8080/"
        },
        "id": "H3OYKMG01HKp",
        "outputId": "bf29adee-0edd-4ecb-9edd-e3ef0e1b583f"
      },
      "outputs": [
        {
          "name": "stdout",
          "output_type": "stream",
          "text": [
            "Enter a word: the\n",
            "Number of occurrences of 'the': 69971\n"
          ]
        }
      ],
      "source": [
        "word = input(\"Enter a word: \")\n",
        "word_count = corpus.count(word)\n",
        "print(f\"Number of occurrences of '{word}': {word_count}\")"
      ]
    },
    {
      "cell_type": "markdown",
      "metadata": {
        "id": "fiGIS4gNLD69"
      },
      "source": [
        "**Distinct parts-of-speech are available for the selected word prevoiusly What are they, and which one is most frequeny**"
      ]
    },
    {
      "cell_type": "markdown",
      "metadata": {
        "id": "4yg2S4WlKbTu"
      },
      "source": [
        "distinct parts-of-speech are available for the selected word in\n",
        "part 6? What are they, and which one is most frequent?\n"
      ]
    },
    {
      "cell_type": "code",
      "execution_count": null,
      "metadata": {
        "id": "1uWGSvKH11ek"
      },
      "outputs": [],
      "source": [
        "def analyze_word_simple(word, pos_tags):\n",
        "    unique_pos_tags = set(tag for _, tag in pos_tags if word == _)\n",
        "\n",
        "    most_frequent_pos = max(set(tag for _, tag in pos_tags if word == _), key=pos_tags.count)\n",
        "    return len(unique_pos_tags),most_frequent_pos\n",
        "\n"
      ]
    },
    {
      "cell_type": "code",
      "execution_count": null,
      "metadata": {
        "colab": {
          "base_uri": "https://localhost:8080/"
        },
        "id": "4jpb8TG4KWF4",
        "outputId": "f4784944-dfe5-40d0-fb47-888c8f8045ba"
      },
      "outputs": [
        {
          "name": "stdout",
          "output_type": "stream",
          "text": [
            "Number of distinct POS tags for 'the': 1\n",
            "Most frequent POS tag for 'the': DT\n"
          ]
        }
      ],
      "source": [
        "unique_pos_count,  most_frequent_pos = analyze_word_simple(word, pos_tag)\n",
        "\n",
        "print(f\"Number of distinct POS tags for '{word}': {unique_pos_count}\")\n",
        "\n",
        "print(f\"Most frequent POS tag for '{word}': {most_frequent_pos}\")"
      ]
    },
    {
      "cell_type": "code",
      "execution_count": null,
      "metadata": {
        "id": "Y4XMVcChKagi"
      },
      "outputs": [],
      "source": []
    }
  ],
  "metadata": {
    "accelerator": "GPU",
    "colab": {
      "gpuType": "T4",
      "provenance": []
    },
    "kernelspec": {
      "display_name": "Python 3",
      "name": "python3"
    },
    "language_info": {
      "name": "python"
    }
  },
  "nbformat": 4,
  "nbformat_minor": 0
}
