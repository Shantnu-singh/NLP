{
 "cells": [
  {
   "cell_type": "markdown",
   "metadata": {},
   "source": [
    "<strong><h3>Design of word embeddings using co-occurrence matrix.\n",
    "</h3></strong>"
   ]
  },
  {
   "cell_type": "code",
   "execution_count": 2,
   "metadata": {},
   "outputs": [],
   "source": [
    "import numpy as np\n",
    "from collections import defaultdict\n",
    "from sklearn.preprocessing import normalize\n"
   ]
  },
  {
   "cell_type": "code",
   "execution_count": 3,
   "metadata": {},
   "outputs": [],
   "source": [
    "corpus = [\n",
    "    \"This is the first document.\",\n",
    "    \"This document is the second document.\",\n",
    "    \"And this is the third one.\",\n",
    "    \"Is this the first document?\",\n",
    "]\n"
   ]
  },
  {
   "cell_type": "code",
   "execution_count": 4,
   "metadata": {},
   "outputs": [],
   "source": [
    "window_size = 2  \n",
    "co_occurrence_matrix = defaultdict(int)\n",
    "\n",
    "for text in corpus:\n",
    "    tokens = text.lower().split()\n",
    "    for i, word in enumerate(tokens):\n",
    "        for j in range(max(i - window_size, 0), min(i + window_size + 1, len(tokens))):\n",
    "            if i != j:\n",
    "                co_occurrence_matrix[(word, tokens[j])] += 1\n",
    "\n",
    "# Create vocabulary\n",
    "vocab = sorted(set(word for context_pair in co_occurrence_matrix.keys() for word in context_pair))\n",
    "\n"
   ]
  },
  {
   "cell_type": "code",
   "execution_count": 8,
   "metadata": {},
   "outputs": [
    {
     "data": {
      "text/plain": [
       "['and',\n",
       " 'document',\n",
       " 'document.',\n",
       " 'document?',\n",
       " 'first',\n",
       " 'is',\n",
       " 'one.',\n",
       " 'second',\n",
       " 'the',\n",
       " 'third',\n",
       " 'this']"
      ]
     },
     "execution_count": 8,
     "metadata": {},
     "output_type": "execute_result"
    }
   ],
   "source": [
    "vocab"
   ]
  },
  {
   "cell_type": "code",
   "execution_count": 5,
   "metadata": {},
   "outputs": [],
   "source": [
    "\n",
    "# Construct co-occurrence matrix\n",
    "num_words = len(vocab)\n",
    "co_occurrence_matrix_np = np.zeros((num_words, num_words))\n",
    "\n",
    "for i, word1 in enumerate(vocab):\n",
    "    for j, word2 in enumerate(vocab):\n",
    "        co_occurrence_matrix_np[i, j] = co_occurrence_matrix[(word1, word2)]\n"
   ]
  },
  {
   "cell_type": "code",
   "execution_count": 6,
   "metadata": {},
   "outputs": [],
   "source": [
    "# SVD for dimensionality reduction\n",
    "U, _, _ = np.linalg.svd(co_occurrence_matrix_np)\n",
    "\n",
    "# Extract word embeddings\n",
    "word_embeddings = U[:, :100]  # Assuming 100 dimensions\n",
    "\n",
    "# Normalize embeddings\n",
    "word_embeddings = normalize(word_embeddings, axis=1, norm='l2')\n"
   ]
  },
  {
   "cell_type": "code",
   "execution_count": 7,
   "metadata": {},
   "outputs": [
    {
     "name": "stdout",
     "output_type": "stream",
     "text": [
      "Word: document, Embedding: [-0.17107766  0.0244336   0.02566876  0.21928474  0.22681178  0.04574579\n",
      " -0.25154451 -0.03144657  0.57120788  0.1301905   0.67850052]\n",
      "Word: this, Embedding: [-0.47517019 -0.17300101  0.72385866  0.33809759 -0.17658999  0.12582661\n",
      "  0.17666056  0.04350924 -0.12145046 -0.10506454 -0.00977071]\n",
      "Word: first, Embedding: [-0.25890911  0.0774463   0.074289   -0.36249141  0.70593064  0.22354213\n",
      " -0.00367718  0.37374086 -0.06116064 -0.30338755 -0.07911846]\n"
     ]
    }
   ],
   "source": [
    "words_of_interest = ['document', 'this', 'first']\n",
    "for word in words_of_interest:\n",
    "    index = vocab.index(word)\n",
    "    embedding = word_embeddings[index]\n",
    "    print(f\"Word: {word}, Embedding: {embedding}\")\n"
   ]
  }
 ],
 "metadata": {
  "kernelspec": {
   "display_name": "Python 3",
   "language": "python",
   "name": "python3"
  },
  "language_info": {
   "codemirror_mode": {
    "name": "ipython",
    "version": 3
   },
   "file_extension": ".py",
   "mimetype": "text/x-python",
   "name": "python",
   "nbconvert_exporter": "python",
   "pygments_lexer": "ipython3",
   "version": "3.8.10"
  }
 },
 "nbformat": 4,
 "nbformat_minor": 2
}
